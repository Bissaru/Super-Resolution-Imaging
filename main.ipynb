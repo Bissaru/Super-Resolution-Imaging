{
 "cells": [
  {
   "cell_type": "markdown",
   "metadata": {},
   "source": [
    "### Dependencies"
   ]
  },
  {
   "cell_type": "code",
   "execution_count": 1,
   "metadata": {},
   "outputs": [],
   "source": [
    "from utils import *\n",
    "from config import *\n",
    "import tensorflow as tf\n",
    "from tensorflow.keras import layers\n",
    "from tensorflow.keras.models import Sequential\n",
    "from tensorflow.keras.utils import image_dataset_from_directory\n",
    "from tensorflow.keras.preprocessing.image import ImageDataGenerator"
   ]
  },
  {
   "cell_type": "markdown",
   "metadata": {},
   "source": [
    "### Loading and Preprocessing Training Data"
   ]
  },
  {
   "cell_type": "code",
   "execution_count": 2,
   "metadata": {},
   "outputs": [
    {
     "name": "stdout",
     "output_type": "stream",
     "text": [
      "Found 800 files belonging to 1 classes.\n",
      "Found 800 files belonging to 1 classes.\n"
     ]
    }
   ],
   "source": [
    "lr_ds = image_dataset_from_directory(\n",
    "    directory=TRAIN_LR_DIR,\n",
    "    batch_size=BATCH_SIZE,\n",
    "    labels=None,\n",
    "    image_size=IMAGE_SIZE)\n",
    "\n",
    "hr_ds = image_dataset_from_directory(\n",
    "    directory=TRAIN_HR_DIR,\n",
    "    batch_size=BATCH_SIZE,\n",
    "    labels=None,\n",
    "    image_size=IMAGE_SIZE)"
   ]
  },
  {
   "cell_type": "code",
   "execution_count": 3,
   "metadata": {},
   "outputs": [],
   "source": [
    "normalised_lr = lr_ds.map(NORMALIZATION_FUNC)\n",
    "normalised_hr = hr_ds.map(NORMALIZATION_FUNC)\n",
    "\n",
    "train_ds = tf.data.Dataset.zip((normalised_lr,normalised_hr))"
   ]
  },
  {
   "cell_type": "markdown",
   "metadata": {},
   "source": [
    "### Loading and Preprocessing Validation Data"
   ]
  },
  {
   "cell_type": "code",
   "execution_count": 4,
   "metadata": {},
   "outputs": [
    {
     "name": "stdout",
     "output_type": "stream",
     "text": [
      "Found 100 files belonging to 1 classes.\n",
      "Found 100 files belonging to 1 classes.\n"
     ]
    }
   ],
   "source": [
    "lr_ds = image_dataset_from_directory(\n",
    "    directory=VAL_LR_DIR,\n",
    "    batch_size=BATCH_SIZE,\n",
    "    labels=None,\n",
    "    image_size=IMAGE_SIZE)\n",
    "\n",
    "hr_ds = image_dataset_from_directory(\n",
    "    directory=VAL_HR_DIR,\n",
    "    batch_size=BATCH_SIZE,\n",
    "    labels=None,\n",
    "    image_size=IMAGE_SIZE)"
   ]
  },
  {
   "cell_type": "code",
   "execution_count": 5,
   "metadata": {},
   "outputs": [],
   "source": [
    "normalised_lr = lr_ds.map(NORMALIZATION_FUNC)\n",
    "normalised_hr = hr_ds.map(NORMALIZATION_FUNC)\n",
    "\n",
    "val_ds = tf.data.Dataset.zip((normalised_lr,normalised_hr))"
   ]
  },
  {
   "cell_type": "markdown",
   "metadata": {},
   "source": [
    "### Building the Neural Network"
   ]
  },
  {
   "cell_type": "code",
   "execution_count": null,
   "metadata": {},
   "outputs": [],
   "source": [
    "model = Sequential()\n",
    "\n",
    "model.add(layers.InputLayer(IMAGE_SIZE_CHL))\n",
    "model.add(layers.Conv2D(64,kernel_size=3,activation=\"tanh\",padding=\"same\"))\n",
    "model.add(layers.Conv2D(64,kernel_size=3,activation=\"tanh\",padding=\"same\"))\n",
    "model.add(layers.Conv2D(32,kernel_size=3,activation=\"tanh\",padding=\"same\"))\n",
    "model.add(layers.Conv2DTranspose(32,kernel_size=3,strides=(2,2),padding=\"same\",activation=\"relu\"))\n",
    "model.add(layers.Conv2DTranspose(64,kernel_size=3,strides=(2,2),padding=\"same\",activation=\"relu\"))\n",
    "model.add(layers.Conv2D(3,padding=\"same\",activation=\"sigmoid\"))\n",
    "model.summary()"
   ]
  }
 ],
 "metadata": {
  "kernelspec": {
   "display_name": "tfdml",
   "language": "python",
   "name": "python3"
  },
  "language_info": {
   "codemirror_mode": {
    "name": "ipython",
    "version": 3
   },
   "file_extension": ".py",
   "mimetype": "text/x-python",
   "name": "python",
   "nbconvert_exporter": "python",
   "pygments_lexer": "ipython3",
   "version": "3.6.13"
  }
 },
 "nbformat": 4,
 "nbformat_minor": 2
}
