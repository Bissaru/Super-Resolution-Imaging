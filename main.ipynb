{
 "cells": [
  {
   "cell_type": "markdown",
   "metadata": {},
   "source": [
    "### Dependencies"
   ]
  },
  {
   "cell_type": "code",
   "execution_count": 1,
   "metadata": {},
   "outputs": [],
   "source": [
    "from utils import *\n",
    "from config import *\n",
    "import tensorflow as tf\n",
    "from tensorflow.keras import layers\n",
    "from tensorflow.keras.models import Model\n",
    "from tensorflow.keras.utils import image_dataset_from_directory\n",
    "from tensorflow.keras.preprocessing.image import ImageDataGenerator"
   ]
  },
  {
   "cell_type": "markdown",
   "metadata": {},
   "source": [
    "### Loading and Preprocessing Training Data"
   ]
  },
  {
   "cell_type": "code",
   "execution_count": 2,
   "metadata": {},
   "outputs": [
    {
     "name": "stdout",
     "output_type": "stream",
     "text": [
      "Found 800 files belonging to 1 classes.\n",
      "Found 800 files belonging to 1 classes.\n"
     ]
    }
   ],
   "source": [
    "lr_ds = image_dataset_from_directory(\n",
    "    directory=TRAIN_LR_DIR,\n",
    "    batch_size=BATCH_SIZE,\n",
    "    labels=None,\n",
    "    image_size=IMAGE_SIZE)\n",
    "\n",
    "hr_ds = image_dataset_from_directory(\n",
    "    directory=TRAIN_HR_DIR,\n",
    "    batch_size=BATCH_SIZE,\n",
    "    labels=None,\n",
    "    image_size=IMAGE_SIZE)"
   ]
  },
  {
   "cell_type": "code",
   "execution_count": 3,
   "metadata": {},
   "outputs": [],
   "source": [
    "normalised_lr = lr_ds.map(NORMALIZATION_FUNC)\n",
    "normalised_hr = hr_ds.map(NORMALIZATION_FUNC)\n",
    "\n",
    "train_ds = tf.data.Dataset.zip((normalised_lr,normalised_hr))"
   ]
  },
  {
   "cell_type": "markdown",
   "metadata": {},
   "source": [
    "### Loading and Preprocessing Validation Data"
   ]
  },
  {
   "cell_type": "code",
   "execution_count": 4,
   "metadata": {},
   "outputs": [
    {
     "name": "stdout",
     "output_type": "stream",
     "text": [
      "Found 100 files belonging to 1 classes.\n",
      "Found 100 files belonging to 1 classes.\n"
     ]
    }
   ],
   "source": [
    "lr_ds = image_dataset_from_directory(\n",
    "    directory=VAL_LR_DIR,\n",
    "    labels=None,\n",
    "    image_size=IMAGE_SIZE)\n",
    "\n",
    "hr_ds = image_dataset_from_directory(\n",
    "    directory=VAL_HR_DIR,\n",
    "    labels=None,\n",
    "    image_size=IMAGE_SIZE)"
   ]
  },
  {
   "cell_type": "code",
   "execution_count": 5,
   "metadata": {},
   "outputs": [],
   "source": [
    "normalised_lr = lr_ds.map(NORMALIZATION_FUNC)\n",
    "normalised_hr = hr_ds.map(NORMALIZATION_FUNC)\n",
    "\n",
    "val_ds = tf.data.Dataset.zip((normalised_lr,normalised_hr))"
   ]
  },
  {
   "cell_type": "code",
   "execution_count": 6,
   "metadata": {},
   "outputs": [
    {
     "name": "stdout",
     "output_type": "stream",
     "text": [
      "<ZipDataset shapes: ((None, 256, 256, 3), (None, 256, 256, 3)), types: (tf.float32, tf.float32)>\n",
      "<ZipDataset shapes: ((None, 256, 256, 3), (None, 256, 256, 3)), types: (tf.float32, tf.float32)>\n"
     ]
    }
   ],
   "source": [
    "print(train_ds)\n",
    "print(val_ds)"
   ]
  },
  {
   "cell_type": "markdown",
   "metadata": {},
   "source": [
    "### Building the Neural Network"
   ]
  },
  {
   "cell_type": "code",
   "execution_count": 7,
   "metadata": {},
   "outputs": [],
   "source": [
    "input_layer = layers.Input(shape=IMAGE_SIZE_CHL)\n",
    "\n",
    "initial_convolutional_layer = layers.Conv2D(64,kernel_size=3,activation=\"relu\",padding=\"same\")(input_layer)\n",
    "\n",
    "for _ in range(8):\n",
    "    convolutional_layer = layers.Conv2D(64,kernel_size=3,activation=\"relu\",padding=\"same\")(initial_convolutional_layer)\n",
    "    x = layers.add([initial_convolutional_layer,convolutional_layer])\n",
    "\n",
    "output_layer = layers.Conv2D(3,kernel_size=3,activation=\"sigmoid\",padding=\"same\")(x)\n",
    "\n",
    "model = Model(inputs = input_layer,outputs = output_layer)"
   ]
  },
  {
   "cell_type": "markdown",
   "metadata": {},
   "source": [
    "### Training the Model"
   ]
  },
  {
   "cell_type": "markdown",
   "metadata": {},
   "source": [
    "model.compile(loss = LOSS,optimizer=OPTIMIZER,metrics=METRICS)\n",
    "model.fit(train_ds,\n",
    "          epochs=EPOCHS,\n",
    "          validation_data=val_ds,\n",
    "          callbacks=CALLBACK_TOOL.MODEL_CHECKPOINT(path = MODEL_CHECKPOINT_CALLBACK))"
   ]
  },
  {
   "cell_type": "markdown",
   "metadata": {},
   "source": [
    "### Testing the model"
   ]
  },
  {
   "cell_type": "code",
   "execution_count": 8,
   "metadata": {},
   "outputs": [],
   "source": [
    "model = tf.keras.models.load_model(MODEL_CHECKPOINT_CALLBACK)"
   ]
  }
 ],
 "metadata": {
  "kernelspec": {
   "display_name": "tfdml",
   "language": "python",
   "name": "python3"
  },
  "language_info": {
   "codemirror_mode": {
    "name": "ipython",
    "version": 3
   },
   "file_extension": ".py",
   "mimetype": "text/x-python",
   "name": "python",
   "nbconvert_exporter": "python",
   "pygments_lexer": "ipython3",
   "version": "3.6.13"
  }
 },
 "nbformat": 4,
 "nbformat_minor": 2
}
